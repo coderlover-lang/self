{
 "cells": [
  {
   "cell_type": "code",
   "execution_count": 14,
   "metadata": {},
   "outputs": [],
   "source": [
    "import numpy as np\n",
    "import cv2\n",
    "import time\n",
    "import pandas as pd "
   ]
  },
  {
   "cell_type": "code",
   "execution_count": 15,
   "metadata": {},
   "outputs": [],
   "source": [
    "cap = cv2.VideoCapture(\"../videos/DJI_0035.MOV\")\n",
    "\n",
    "suc, prev = cap.read()\n",
    "prevgray = cv2.cvtColor(prev, cv2.COLOR_BGR2GRAY)\n",
    "h, w = list(prevgray.shape[:2])[::-1]\n",
    "prevgray = cv2.resize(prevgray,( h // 4, w // 4))"
   ]
  },
  {
   "cell_type": "code",
   "execution_count": 16,
   "metadata": {},
   "outputs": [
    {
     "data": {
      "text/plain": [
       "(540, 960)"
      ]
     },
     "execution_count": 16,
     "metadata": {},
     "output_type": "execute_result"
    }
   ],
   "source": [
    "prevgray.shape"
   ]
  },
  {
   "cell_type": "code",
   "execution_count": 17,
   "metadata": {},
   "outputs": [],
   "source": [
    "flow_list = []\n",
    "count = 0\n",
    "while True:\n",
    "    count += 1\n",
    "\n",
    "    suc, img = cap.read()\n",
    "    if (suc ):\n",
    "        gray = cv2.cvtColor(img, cv2.COLOR_BGR2GRAY)\n",
    "        gray = cv2.resize(gray, (h // 4, w // 4))\n",
    "        # start time to calculate FPS\n",
    "        start = time.time()\n",
    "\n",
    "\n",
    "        flow = cv2.calcOpticalFlowFarneback(prevgray, gray, None, 0.5, 3, 15, 3, 5, 1.2, 0)\n",
    "        prevgray = gray\n",
    "        if count % 20 == 0:\n",
    "            flow_list.append(flow.tolist())\n",
    "            # print(count)\n",
    "    else:\n",
    "        break\n",
    "    "
   ]
  },
  {
   "cell_type": "code",
   "execution_count": 18,
   "metadata": {},
   "outputs": [],
   "source": [
    "cap.release()"
   ]
  },
  {
   "cell_type": "code",
   "execution_count": 19,
   "metadata": {},
   "outputs": [
    {
     "data": {
      "text/plain": [
       "8"
      ]
     },
     "execution_count": 19,
     "metadata": {},
     "output_type": "execute_result"
    }
   ],
   "source": [
    "len(flow_list)"
   ]
  },
  {
   "cell_type": "code",
   "execution_count": 20,
   "metadata": {},
   "outputs": [
    {
     "data": {
      "text/plain": [
       "(8, 540, 960, 2)"
      ]
     },
     "execution_count": 20,
     "metadata": {},
     "output_type": "execute_result"
    }
   ],
   "source": [
    "speeds = np.array(flow_list)\n",
    "speeds.shape "
   ]
  },
  {
   "cell_type": "code",
   "execution_count": 21,
   "metadata": {},
   "outputs": [],
   "source": [
    "arr = None\n",
    "with open('./speed_per_20.npz', 'rb') as f:\n",
    "    arr = np.load(f)"
   ]
  },
  {
   "cell_type": "code",
   "execution_count": 22,
   "metadata": {},
   "outputs": [
    {
     "data": {
      "text/plain": [
       "1694372"
      ]
     },
     "execution_count": 22,
     "metadata": {},
     "output_type": "execute_result"
    }
   ],
   "source": [
    "(arr == speeds).sum()"
   ]
  },
  {
   "cell_type": "code",
   "execution_count": 23,
   "metadata": {},
   "outputs": [],
   "source": [
    "with open('./speed_per_20(1).npz', 'wb') as f:\n",
    "    np.save(f, speeds)"
   ]
  },
  {
   "cell_type": "code",
   "execution_count": 24,
   "metadata": {},
   "outputs": [],
   "source": [
    "calc_speed = lambda x : np.sqrt(x[::, ::, 0] ** 2 + x[::, ::, 1] ** 2)"
   ]
  },
  {
   "cell_type": "code",
   "execution_count": 25,
   "metadata": {},
   "outputs": [],
   "source": [
    "speed_list = map(calc_speed, [speeds[i] for i in range(speeds.shape[0])])"
   ]
  },
  {
   "cell_type": "code",
   "execution_count": 26,
   "metadata": {},
   "outputs": [],
   "source": [
    "speed_list = [*speed_list]"
   ]
  },
  {
   "cell_type": "code",
   "execution_count": 27,
   "metadata": {},
   "outputs": [],
   "source": [
    "real_speed = np.array(\"1.013\t2.867\t4.263\t4.442\t4.512\t4.314\t4.658\t4.229\t3.516\t3.814\t2.278\".split(\"\\t\"), dtype = \"float\")"
   ]
  },
  {
   "cell_type": "code",
   "execution_count": 28,
   "metadata": {},
   "outputs": [],
   "source": [
    "aixs_line = 0"
   ]
  },
  {
   "cell_type": "code",
   "execution_count": 29,
   "metadata": {},
   "outputs": [
    {
     "data": {
      "text/plain": [
       "array([[3.06632756e-02, 5.98023080e-02, 7.80131999e-02, ...,\n",
       "        1.08249308e-01, 9.46387472e-02, 6.55386718e-02],\n",
       "       [3.94036578e-02, 5.55386020e-02, 6.12093519e-02, ...,\n",
       "        9.63328421e-02, 7.93351332e-02, 5.21984973e-02],\n",
       "       [3.97662915e-02, 5.10036467e-02, 5.84997853e-02, ...,\n",
       "        8.08399753e-02, 6.58388553e-02, 4.45738083e-02],\n",
       "       ...,\n",
       "       [2.23374025e-02, 3.11830848e-02, 3.74330176e-02, ...,\n",
       "        1.89893988e+01, 1.88479363e+01, 1.82025862e+01],\n",
       "       [2.24912128e-02, 3.28106970e-02, 5.02964506e-02, ...,\n",
       "        1.85694209e+01, 1.83405585e+01, 1.75837132e+01],\n",
       "       [1.78305310e-02, 2.74647693e-02, 4.41655852e-02, ...,\n",
       "        1.75983312e+01, 1.70856661e+01, 1.60721290e+01]])"
      ]
     },
     "execution_count": 29,
     "metadata": {},
     "output_type": "execute_result"
    }
   ],
   "source": [
    "speed_list[0]\n",
    "# hsv = np.zeros((h, w, 3), np.uint8)\n",
    "# hsv[...,0] = ang*(180/np.pi/2)\n",
    "# hsv[...,1] = 255\n",
    "# hsv[...,2] = np.minimum(v*4, 255)"
   ]
  },
  {
   "cell_type": "code",
   "execution_count": 34,
   "metadata": {},
   "outputs": [],
   "source": [
    "angs = np.arctan2(speeds[:, :, :, 0], speeds[:, :, :, 1] ) + np.pi"
   ]
  },
  {
   "cell_type": "code",
   "execution_count": null,
   "metadata": {},
   "outputs": [],
   "source": []
  }
 ],
 "metadata": {
  "kernelspec": {
   "display_name": "d2l",
   "language": "python",
   "name": "python3"
  },
  "language_info": {
   "codemirror_mode": {
    "name": "ipython",
    "version": 3
   },
   "file_extension": ".py",
   "mimetype": "text/x-python",
   "name": "python",
   "nbconvert_exporter": "python",
   "pygments_lexer": "ipython3",
   "version": "3.8.0"
  },
  "orig_nbformat": 4
 },
 "nbformat": 4,
 "nbformat_minor": 2
}
