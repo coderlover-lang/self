{
 "cells": [
  {
   "cell_type": "code",
   "execution_count": 2,
   "metadata": {},
   "outputs": [],
   "source": [
    "import pandas as pd\n",
    "import numpy as np\n",
    "from matplotlib import pyplot as plt\n",
    "import matplotlib as mpl\n",
    "plt.rcParams['font.sans-serif'] = ['Times New Roman']\n",
    "plt.rcParams['axes.unicode_minus'] = False\n",
    "import cv2 "
   ]
  },
  {
   "cell_type": "code",
   "execution_count": 3,
   "metadata": {},
   "outputs": [],
   "source": [
    "def load_frames(source):\n",
    "    arr = None\n",
    "    with open(source, 'rb') as f:\n",
    "        arr = np.load(f) \n",
    "    return arr    \n",
    "with open('../speed_per_20.npz', 'rb') as f:\n",
    "    arr = np.load(f)"
   ]
  },
  {
   "cell_type": "code",
   "execution_count": 4,
   "metadata": {},
   "outputs": [
    {
     "data": {
      "text/plain": [
       "(8, 540, 960, 2)"
      ]
     },
     "execution_count": 4,
     "metadata": {},
     "output_type": "execute_result"
    }
   ],
   "source": [
    "\n",
    "arr.shape "
   ]
  },
  {
   "cell_type": "code",
   "execution_count": 5,
   "metadata": {},
   "outputs": [],
   "source": [
    "total_frame = arr.shape[0]\n",
    "total_observe_line = arr.shape[1]\n",
    "total_flow_direction_line = arr.shape[2]"
   ]
  },
  {
   "cell_type": "code",
   "execution_count": 6,
   "metadata": {},
   "outputs": [],
   "source": [
    "def frames_to_bgrs(arr):\n",
    "    total_observe_line = arr.shape[1]\n",
    "    total_flow_direction_line = arr.shape[2]\n",
    "    fx, fy = arr[:, :,:,0], arr[:, :,:,1]\n",
    "    ang = np.arctan2(fy, fx) + np.pi\n",
    "    v = np.sqrt(fx*fx+fy*fy)\n",
    "    \n",
    "    # create hsv figure for flow vecoity\n",
    "    \n",
    "    hsv = np.zeros((ang.shape[0], total_observe_line, total_flow_direction_line, 3), np.uint8)\n",
    "    hsv[...,0] = ang*(180/np.pi/2)\n",
    "    hsv[...,1] = 255\n",
    "    hsv[...,2] = np.minimum(v*4, 255)\n",
    "    \n",
    "    # hsv to bgr\n",
    "    bgr = np.array([cv2.cvtColor(hsv[i], cv2.COLOR_HSV2RGB).tolist() for i in range(8)])\n",
    "    return bgr"
   ]
  },
  {
   "cell_type": "code",
   "execution_count": 7,
   "metadata": {},
   "outputs": [],
   "source": [
    "bgr = frames_to_bgrs(arr)"
   ]
  },
  {
   "cell_type": "code",
   "execution_count": 8,
   "metadata": {},
   "outputs": [
    {
     "data": {
      "text/plain": [
       "(8, 540, 960, 3)"
      ]
     },
     "execution_count": 8,
     "metadata": {},
     "output_type": "execute_result"
    }
   ],
   "source": [
    "bgr.shape "
   ]
  },
  {
   "cell_type": "code",
   "execution_count": 14,
   "metadata": {},
   "outputs": [],
   "source": [
    "# input:\n",
    "#   bgr shape [frame, w, h, 3] \n",
    "#   frame_index : number\n",
    "#   y_ind : number \n",
    "#   step : number (measure intetrval)\n",
    "#   uninterval_index : None | iterable (make efferts only when step is not a const)\n",
    "# return:\n",
    "#   \n",
    "def calc_flow_index(bgr, frame_index = 0, y_ind = 120, step = 60, uninterval_indicies = None, surface_width = 420):\n",
    "    different_map = np.where(bgr[frame_index].sum(axis = 2) == 0, 0, 255 )\n",
    "    start_index = different_map[y_ind, :].tolist().index(255)\n",
    "    end_index = bgr.shape[2] - different_map[y_ind, :].tolist()[::-1].index(255) - 1\n",
    "    if not uninterval_indicies:\n",
    "        indices = np.array([*range(0, surface_width + 1, step)])\n",
    "    else:\n",
    "        indices = np.array(uninterval_indicies)\n",
    "    map_indices = (indices * (end_index - start_index) / surface_width).astype(\"int\")\n",
    "    return map_indices"
   ]
  },
  {
   "cell_type": "code",
   "execution_count": 15,
   "metadata": {},
   "outputs": [
    {
     "data": {
      "text/plain": [
       "array([  0,  78, 157, 236, 315, 394, 473, 552])"
      ]
     },
     "execution_count": 15,
     "metadata": {},
     "output_type": "execute_result"
    }
   ],
   "source": [
    "calc_flow_index(bgr, frame_index=1)"
   ]
  },
  {
   "cell_type": "code",
   "execution_count": 22,
   "metadata": {},
   "outputs": [],
   "source": [
    "def calc_frame_flow_index(frame, y_ind = 120, step = 60, uninterval_indicies = None, surface_width = 420):\n",
    "    different_map = np.where(frame.sum(axis = 2) == 0, 0, 255 )\n",
    "    start_index = different_map[y_ind, :].tolist().index(255)\n",
    "    end_index = frame.shape[1] - different_map[y_ind, :].tolist()[::-1].index(255) - 1\n",
    "    if not uninterval_indicies:\n",
    "        indices = np.array([*range(0, surface_width + 1, step)])\n",
    "    else:\n",
    "        indices = np.array(uninterval_indicies)\n",
    "    map_indices = (indices * (end_index - start_index) / surface_width).astype(\"int\")\n",
    "    return map_indices"
   ]
  },
  {
   "cell_type": "code",
   "execution_count": 23,
   "metadata": {},
   "outputs": [
    {
     "data": {
      "text/plain": [
       "array([  0,  78, 157, 236, 315, 394, 473, 552])"
      ]
     },
     "execution_count": 23,
     "metadata": {},
     "output_type": "execute_result"
    }
   ],
   "source": [
    "calc_frame_flow_index(bgr[1])"
   ]
  },
  {
   "cell_type": "code",
   "execution_count": null,
   "metadata": {},
   "outputs": [],
   "source": []
  }
 ],
 "metadata": {
  "kernelspec": {
   "display_name": "d2l",
   "language": "python",
   "name": "python3"
  },
  "language_info": {
   "codemirror_mode": {
    "name": "ipython",
    "version": 3
   },
   "file_extension": ".py",
   "mimetype": "text/x-python",
   "name": "python",
   "nbconvert_exporter": "python",
   "pygments_lexer": "ipython3",
   "version": "3.8.0"
  },
  "orig_nbformat": 4
 },
 "nbformat": 4,
 "nbformat_minor": 2
}
