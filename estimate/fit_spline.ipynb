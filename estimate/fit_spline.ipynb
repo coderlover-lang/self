{
 "cells": [
  {
   "cell_type": "code",
   "execution_count": 2,
   "metadata": {},
   "outputs": [],
   "source": [
    "import math\n",
    "from sklearn.linear_model import LinearRegression\n",
    "import numpy as  np \n",
    "import pandas as pd \n",
    "from matplotlib import pyplot as plt \n",
    "import matplotlib as mpl \n",
    "mpl.rcParams['font.sans-serif'] = ['Times New Roman']\n",
    "mpl.rcParams['axes.unicode_minus'] = False\n",
    "pd.set_option('display.max_columns', None)\n",
    "pd.set_option('display.max_rows', None)"
   ]
  },
  {
   "cell_type": "code",
   "execution_count": 3,
   "metadata": {},
   "outputs": [],
   "source": [
    "best_frame, best_yind = 2, 410\n"
   ]
  },
  {
   "cell_type": "code",
   "execution_count": 4,
   "metadata": {},
   "outputs": [],
   "source": [
    "with open('./speed_per_20.npz', 'rb') as f:\n",
    "    speeds = np.load(f)"
   ]
  },
  {
   "cell_type": "code",
   "execution_count": 5,
   "metadata": {},
   "outputs": [
    {
     "data": {
      "text/plain": [
       "(8, 540, 960, 2)"
      ]
     },
     "execution_count": 5,
     "metadata": {},
     "output_type": "execute_result"
    }
   ],
   "source": [
    "speeds.shape"
   ]
  },
  {
   "cell_type": "code",
   "execution_count": 6,
   "metadata": {},
   "outputs": [],
   "source": [
    "from utils.flow import calc_frame_flow_index"
   ]
  },
  {
   "cell_type": "code",
   "execution_count": null,
   "metadata": {},
   "outputs": [],
   "source": []
  },
  {
   "cell_type": "code",
   "execution_count": null,
   "metadata": {},
   "outputs": [],
   "source": []
  },
  {
   "cell_type": "code",
   "execution_count": 3,
   "metadata": {},
   "outputs": [],
   "source": [
    "\n",
    "def calculate_results(u, y, s, r):\n",
    "    result1 = [round(value / s , 2) for value in u]\n",
    "    result2 = [round((s * y[i]) / r, 2) for i in range(len(u))]\n",
    "    return result1, result2\n",
    "\n",
    "def calcuate_speed_for_line(arr : np.ndarray) -> np.ndarray:\n",
    "    speed_x = arr[:, 0]\n",
    "    speed_y = arr[:, 1]\n",
    "    return np.sqrt(speed_x ** 2 + speed_y ** 2)"
   ]
  },
  {
   "cell_type": "code",
   "execution_count": 6,
   "metadata": {},
   "outputs": [],
   "source": [
    "best_fit = speeds[best_frame, best_yind]\n",
    "best_fit_speed_x, best_fit_speed_y = best_fit[:, 0], best_fit[:, 1]"
   ]
  },
  {
   "cell_type": "code",
   "execution_count": 7,
   "metadata": {},
   "outputs": [
    {
     "data": {
      "text/plain": [
       "(960,)"
      ]
     },
     "execution_count": 7,
     "metadata": {},
     "output_type": "execute_result"
    }
   ],
   "source": [
    "best_fit_speed = np.sqrt(best_fit_speed_x ** 2 + best_fit_speed_y ** 2)\n",
    "best_fit_speed.shape "
   ]
  },
  {
   "cell_type": "code",
   "execution_count": 12,
   "metadata": {},
   "outputs": [
    {
     "data": {
      "text/plain": [
       "[<matplotlib.lines.Line2D at 0x25e4808e1c0>]"
      ]
     },
     "execution_count": 12,
     "metadata": {},
     "output_type": "execute_result"
    },
    {
     "data": {
      "image/png": "[encoded data removed]",
      "text/plain": [
       "<Figure size 432x288 with 1 Axes>"
      ]
     },
     "metadata": {
      "needs_background": "light"
     },
     "output_type": "display_data"
    }
   ],
   "source": [
    "plt.plot(best_fit_speed)"
   ]
  },
  {
   "cell_type": "code",
   "execution_count": null,
   "metadata": {},
   "outputs": [],
   "source": []
  },
  {
   "cell_type": "code",
   "execution_count": 5,
   "metadata": {},
   "outputs": [
    {
     "name": "stdout",
     "output_type": "stream",
     "text": [
      "u/u*的计算结果： [42.11, 38.23, 31.78]\n",
      "u*y/r的计算结果： [80358.39, 75140.31, 69922.23]\n",
      "Aln(u*y/r)+B拟合后的计算结果： [42.37, 37.37, 32.02]\n",
      "A = 74.38041812196322\n",
      "B = -797.7039846095876\n"
     ]
    }
   ],
   "source": [
    "\n",
    "\n",
    "u = np.array(\"4.658 4.229 3.516\".split(\" \"), dtype=np.float)\n",
    "y = np.array(\"0.770 0.720 0.670\".split(\" \"), dtype=np.float)\n",
    "\n",
    "# 用户输入固定值s和r\n",
    "s = 0.110623234\n",
    "r = 0.00000106\n",
    "\n",
    "# 调用函数并输出结果\n",
    "result1, result2 = calculate_results(u, y, s, r)\n",
    "\n",
    "print(\"u/u*的计算结果：\", result1)\n",
    "print(\"u*y/r的计算结果：\", result2)\n",
    "\n",
    "# 计算 ln(y) 的值\n",
    "ln_y = [math.log(i) for i in result2]\n",
    "\n",
    "# 计算 y 和 x的平均值\n",
    "y_mean = sum(result2) / len(result2)\n",
    "x_mean = sum(result1) / len(result1)\n",
    "\n",
    "# 利用最小二乘法计算 A 和 B 的值\n",
    "numerator = sum([(ln_y[i] - math.log(y_mean)) * (result1[i] - x_mean) for i in range(len(result2))])\n",
    "denominator = sum([(ln_y[i] - math.log(y_mean)) ** 2 for i in range(len(result2))])\n",
    "A = numerator / denominator\n",
    "B = x_mean - A * math.log(y_mean)\n",
    "\n",
    "# A*ln(u*y/r)+B 拟合后的新列表\n",
    "new_x = [round(A * math.log(i) + B, 2) for i in result2]\n",
    "print(\"Aln(u*y/r)+B拟合后的计算结果：\", new_x)\n",
    "\n",
    "# 输出 A 和 B的值\n",
    "print(\"A =\", A)\n",
    "print(\"B =\", B)"
   ]
  },
  {
   "cell_type": "code",
   "execution_count": 8,
   "metadata": {},
   "outputs": [
    {
     "data": {
      "text/plain": [
       "(74.44027409766358, -798.2560412668777)"
      ]
     },
     "execution_count": 8,
     "metadata": {},
     "output_type": "execute_result"
    }
   ],
   "source": [
    "lr = LinearRegression()\n",
    "lr.fit(np.log(result2).reshape(-1, 1), result1)\n",
    "lr.coef_[0], lr.intercept_"
   ]
  },
  {
   "cell_type": "code",
   "execution_count": null,
   "metadata": {},
   "outputs": [],
   "source": []
  }
 ],
 "metadata": {
  "kernelspec": {
   "display_name": "d2l",
   "language": "python",
   "name": "python3"
  },
  "language_info": {
   "codemirror_mode": {
    "name": "ipython",
    "version": 3
   },
   "file_extension": ".py",
   "mimetype": "text/x-python",
   "name": "python",
   "nbconvert_exporter": "python",
   "pygments_lexer": "ipython3",
   "version": "3.8.0"
  },
  "orig_nbformat": 4
 },
 "nbformat": 4,
 "nbformat_minor": 2
}
