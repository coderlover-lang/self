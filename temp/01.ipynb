{
 "cells": [
  {
   "cell_type": "code",
   "execution_count": 1,
   "metadata": {},
   "outputs": [],
   "source": [
    "import numpy as np\n",
    "import matplotlib.pyplot as plt\n",
    "import matplotlib as mpl\n",
    "import pandas as pd\n",
    "mpl.rcParams['font.sans-serif'] = ['SimHei']\n",
    "mpl.rcParams['axes.unicode_minus'] = False\n",
    "pd.set_option('display.max_columns', None)\n",
    "pd.set_option('display.max_rows', None)\n",
    "import cv2\n",
    "\n"
   ]
  },
  {
   "cell_type": "code",
   "execution_count": 2,
   "metadata": {},
   "outputs": [],
   "source": [
    "img= cv2.imread('../out/image/flow.jpg')"
   ]
  },
  {
   "cell_type": "code",
   "execution_count": 3,
   "metadata": {},
   "outputs": [
    {
     "data": {
      "text/plain": [
       "array([[[ 32,  31,  21],\n",
       "        [158, 159, 150],\n",
       "        [152, 150, 149],\n",
       "        ...,\n",
       "        [212, 210, 210],\n",
       "        [211, 207, 206],\n",
       "        [200, 195, 192]],\n",
       "\n",
       "       [[ 38,  36,  28],\n",
       "        [ 29,  29,  23],\n",
       "        [143, 143, 143],\n",
       "        ...,\n",
       "        [203, 203, 203],\n",
       "        [207, 205, 204],\n",
       "        [187, 186, 182]],\n",
       "\n",
       "       [[ 37,  35,  34],\n",
       "        [ 32,  32,  32],\n",
       "        [171, 173, 174],\n",
       "        ...,\n",
       "        [204, 204, 204],\n",
       "        [209, 214, 213],\n",
       "        [202, 209, 206]],\n",
       "\n",
       "       ...,\n",
       "\n",
       "       [[ 38,  37,  39],\n",
       "        [ 36,  35,  37],\n",
       "        [ 34,  36,  36],\n",
       "        ...,\n",
       "        [102, 127,  99],\n",
       "        [ 74, 154,  71],\n",
       "        [ 91, 199,  87]],\n",
       "\n",
       "       [[ 39,  37,  37],\n",
       "        [ 42,  40,  40],\n",
       "        [ 49,  48,  50],\n",
       "        ...,\n",
       "        [113, 136, 114],\n",
       "        [ 81, 141,  81],\n",
       "        [103, 182, 103]],\n",
       "\n",
       "       [[ 45,  43,  42],\n",
       "        [ 40,  38,  38],\n",
       "        [ 34,  30,  35],\n",
       "        ...,\n",
       "        [109, 131, 113],\n",
       "        [ 86, 134,  86],\n",
       "        [ 80, 143,  81]]], dtype=uint8)"
      ]
     },
     "execution_count": 3,
     "metadata": {},
     "output_type": "execute_result"
    }
   ],
   "source": [
    "img\n"
   ]
  },
  {
   "cell_type": "code",
   "execution_count": 4,
   "metadata": {},
   "outputs": [
    {
     "data": {
      "text/plain": [
       "(540, 960, 3)"
      ]
     },
     "execution_count": 4,
     "metadata": {},
     "output_type": "execute_result"
    }
   ],
   "source": [
    "img.shape"
   ]
  },
  {
   "cell_type": "code",
   "execution_count": 14,
   "metadata": {},
   "outputs": [
    {
     "data": {
      "text/plain": [
       "True"
      ]
     },
     "execution_count": 14,
     "metadata": {},
     "output_type": "execute_result"
    }
   ],
   "source": [
    "cv2.imwrite('./01.jpg', img[300:500, 100:520, :])"
   ]
  },
  {
   "cell_type": "code",
   "execution_count": null,
   "metadata": {},
   "outputs": [],
   "source": []
  }
 ],
 "metadata": {
  "kernelspec": {
   "display_name": "d2l",
   "language": "python",
   "name": "python3"
  },
  "language_info": {
   "codemirror_mode": {
    "name": "ipython",
    "version": 3
   },
   "file_extension": ".py",
   "mimetype": "text/x-python",
   "name": "python",
   "nbconvert_exporter": "python",
   "pygments_lexer": "ipython3",
   "version": "3.8.12"
  },
  "orig_nbformat": 4
 },
 "nbformat": 4,
 "nbformat_minor": 2
}
